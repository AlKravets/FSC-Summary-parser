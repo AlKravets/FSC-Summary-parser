{
 "cells": [
  {
   "cell_type": "code",
   "execution_count": 1,
   "id": "31a8dbc3",
   "metadata": {},
   "outputs": [],
   "source": [
    "import tabula\n",
    "import pandas as pd"
   ]
  },
  {
   "cell_type": "code",
   "execution_count": 2,
   "id": "468d53a3",
   "metadata": {},
   "outputs": [
    {
     "name": "stdout",
     "output_type": "stream",
     "text": [
      "Python version:\n",
      "    3.9.7 (default, Aug 31 2021, 13:28:12) \n",
      "[GCC 11.1.0]\n",
      "Java version:\n",
      "    openjdk version \"11.0.12\" 2021-07-20\n",
      "OpenJDK Runtime Environment (build 11.0.12+7)\n",
      "OpenJDK 64-Bit Server VM (build 11.0.12+7, mixed mode)\n",
      "tabula-py version: 2.3.0\n",
      "platform: Linux-5.10.70-1-MANJARO-x86_64-with-glibc2.33\n",
      "uname:\n",
      "    uname_result(system='Linux', node='aleksey-hp-manjaro', release='5.10.70-1-MANJARO', version='#1 SMP PREEMPT Thu Sep 30 15:29:01 UTC 2021', machine='x86_64')\n",
      "linux_distribution: ('Manjaro Linux', '21.1.6', 'Pahvo')\n",
      "mac_ver: ('', ('', '', ''), '')\n",
      "    \n"
     ]
    }
   ],
   "source": [
    "tabula.environment_info()"
   ]
  },
  {
   "cell_type": "code",
   "execution_count": 3,
   "id": "ade1777d",
   "metadata": {},
   "outputs": [
    {
     "name": "stdout",
     "output_type": "stream",
     "text": [
      "'FSC Ukraine CRP data collection template structure.docx'   test\r\n",
      " pdfminer.six\t\t\t\t\t\t    test1.pdf\r\n",
      " res.csv\t\t\t\t\t\t    test.html\r\n",
      " res.html\t\t\t\t\t\t    test.pdf\r\n",
      " result.txt\t\t\t\t\t\t    Untitled.ipynb\r\n",
      "'Summary 4SА Malynskiy lishosp APK 2021 EN.pdf'\t\t    venv\r\n"
     ]
    }
   ],
   "source": [
    "!ls"
   ]
  },
  {
   "cell_type": "code",
   "execution_count": 4,
   "id": "d3b5bc8d",
   "metadata": {},
   "outputs": [
    {
     "name": "stderr",
     "output_type": "stream",
     "text": [
      "'pages' argument isn't specified.Will extract only from page 1 by default.\n"
     ]
    }
   ],
   "source": [
    "pdf_patch  = 'test.pdf'\n",
    "columns = [25,]\n",
    "area = [0, 0, 100, 100]\n",
    "df = tabula.read_pdf(pdf_patch, area= area, pandas_options={'header': None})"
   ]
  },
  {
   "cell_type": "code",
   "execution_count": 5,
   "id": "75c77462",
   "metadata": {},
   "outputs": [
    {
     "data": {
      "text/plain": [
       "1"
      ]
     },
     "execution_count": 5,
     "metadata": {},
     "output_type": "execute_result"
    }
   ],
   "source": [
    "len(df)"
   ]
  },
  {
   "cell_type": "code",
   "execution_count": 6,
   "id": "739ccac7",
   "metadata": {},
   "outputs": [
    {
     "data": {
      "text/html": [
       "<div>\n",
       "<style scoped>\n",
       "    .dataframe tbody tr th:only-of-type {\n",
       "        vertical-align: middle;\n",
       "    }\n",
       "\n",
       "    .dataframe tbody tr th {\n",
       "        vertical-align: top;\n",
       "    }\n",
       "\n",
       "    .dataframe thead th {\n",
       "        text-align: right;\n",
       "    }\n",
       "</style>\n",
       "<table border=\"1\" class=\"dataframe\">\n",
       "  <thead>\n",
       "    <tr style=\"text-align: right;\">\n",
       "      <th></th>\n",
       "      <th>0</th>\n",
       "    </tr>\n",
       "  </thead>\n",
       "  <tbody>\n",
       "    <tr>\n",
       "      <th>0</th>\n",
       "      <td>Le</td>\n",
       "    </tr>\n",
       "    <tr>\n",
       "      <th>1</th>\n",
       "      <td>5.3</td>\n",
       "    </tr>\n",
       "    <tr>\n",
       "      <th>2</th>\n",
       "      <td>5.3.</td>\n",
       "    </tr>\n",
       "    <tr>\n",
       "      <th>3</th>\n",
       "      <td>No</td>\n",
       "    </tr>\n",
       "  </tbody>\n",
       "</table>\n",
       "</div>"
      ],
      "text/plain": [
       "      0\n",
       "0    Le\n",
       "1   5.3\n",
       "2  5.3.\n",
       "3    No"
      ]
     },
     "execution_count": 6,
     "metadata": {},
     "output_type": "execute_result"
    }
   ],
   "source": [
    "df[0]"
   ]
  },
  {
   "cell_type": "code",
   "execution_count": 7,
   "id": "04bc859e",
   "metadata": {},
   "outputs": [
    {
     "name": "stderr",
     "output_type": "stream",
     "text": [
      "'pages' argument isn't specified.Will extract only from page 1 by default.\n"
     ]
    }
   ],
   "source": [
    "tabula.convert_into(pdf_patch, 'res.csv')\n"
   ]
  },
  {
   "cell_type": "code",
   "execution_count": 8,
   "id": "1a4110cf",
   "metadata": {},
   "outputs": [],
   "source": [
    "import camelot"
   ]
  },
  {
   "cell_type": "code",
   "execution_count": 9,
   "id": "b4130845",
   "metadata": {},
   "outputs": [],
   "source": [
    "tables = camelot.read_pdf(pdf_patch)"
   ]
  },
  {
   "cell_type": "code",
   "execution_count": 10,
   "id": "7ba7f5f0",
   "metadata": {},
   "outputs": [
    {
     "data": {
      "text/plain": [
       "<TableList n=1>"
      ]
     },
     "execution_count": 10,
     "metadata": {},
     "output_type": "execute_result"
    }
   ],
   "source": [
    "tables"
   ]
  },
  {
   "cell_type": "code",
   "execution_count": 11,
   "id": "4be9fa3c",
   "metadata": {},
   "outputs": [],
   "source": [
    "tables.export('foo.csv', f='csv', compress=True)"
   ]
  },
  {
   "cell_type": "code",
   "execution_count": 12,
   "id": "8fee08a6",
   "metadata": {},
   "outputs": [
    {
     "data": {
      "text/html": [
       "<div>\n",
       "<style scoped>\n",
       "    .dataframe tbody tr th:only-of-type {\n",
       "        vertical-align: middle;\n",
       "    }\n",
       "\n",
       "    .dataframe tbody tr th {\n",
       "        vertical-align: top;\n",
       "    }\n",
       "\n",
       "    .dataframe thead th {\n",
       "        text-align: right;\n",
       "    }\n",
       "</style>\n",
       "<table border=\"1\" class=\"dataframe\">\n",
       "  <thead>\n",
       "    <tr style=\"text-align: right;\">\n",
       "      <th></th>\n",
       "      <th>0</th>\n",
       "      <th>1</th>\n",
       "      <th>2</th>\n",
       "      <th>3</th>\n",
       "      <th>4</th>\n",
       "    </tr>\n",
       "  </thead>\n",
       "  <tbody>\n",
       "    <tr>\n",
       "      <th>0</th>\n",
       "      <td>Minor conditions 31 (Mn-31)</td>\n",
       "      <td></td>\n",
       "      <td></td>\n",
       "      <td></td>\n",
       "      <td></td>\n",
       "    </tr>\n",
       "    <tr>\n",
       "      <th>1</th>\n",
       "      <td>Standard</td>\n",
       "      <td>FSC-STD-UKR-01-2019 V 1-0 i. 1.6.1.</td>\n",
       "      <td></td>\n",
       "      <td></td>\n",
       "      <td></td>\n",
       "    </tr>\n",
       "    <tr>\n",
       "      <th>2</th>\n",
       "      <td>Requirement</td>\n",
       "      <td>A publically available* dispute* resolution pr...</td>\n",
       "      <td></td>\n",
       "      <td></td>\n",
       "      <td></td>\n",
       "    </tr>\n",
       "    <tr>\n",
       "      <th>3</th>\n",
       "      <td>Non-compliance</td>\n",
       "      <td>The current dispute resolution process is gene...</td>\n",
       "      <td></td>\n",
       "      <td></td>\n",
       "      <td></td>\n",
       "    </tr>\n",
       "    <tr>\n",
       "      <th>4</th>\n",
       "      <td>Objective evidence</td>\n",
       "      <td>Interview with the person responsible for cert...</td>\n",
       "      <td></td>\n",
       "      <td></td>\n",
       "      <td></td>\n",
       "    </tr>\n",
       "    <tr>\n",
       "      <th>5</th>\n",
       "      <td>Deadline for cor-\\nrective actions and \\ntheir...</td>\n",
       "      <td>Identification date</td>\n",
       "      <td>Fulfilment period</td>\n",
       "      <td>Status</td>\n",
       "      <td>Closure date</td>\n",
       "    </tr>\n",
       "    <tr>\n",
       "      <th>6</th>\n",
       "      <td></td>\n",
       "      <td>24.03.2021</td>\n",
       "      <td>Until 23.03.2022 \\n(12 months from the \\ndate ...</td>\n",
       "      <td>Open</td>\n",
       "      <td></td>\n",
       "    </tr>\n",
       "  </tbody>\n",
       "</table>\n",
       "</div>"
      ],
      "text/plain": [
       "                                                   0  \\\n",
       "0                        Minor conditions 31 (Mn-31)   \n",
       "1                                           Standard   \n",
       "2                                        Requirement   \n",
       "3                                     Non-compliance   \n",
       "4                                 Objective evidence   \n",
       "5  Deadline for cor-\\nrective actions and \\ntheir...   \n",
       "6                                                      \n",
       "\n",
       "                                                   1  \\\n",
       "0                                                      \n",
       "1                FSC-STD-UKR-01-2019 V 1-0 i. 1.6.1.   \n",
       "2  A publically available* dispute* resolution pr...   \n",
       "3  The current dispute resolution process is gene...   \n",
       "4  Interview with the person responsible for cert...   \n",
       "5                                Identification date   \n",
       "6                                         24.03.2021   \n",
       "\n",
       "                                                   2       3             4  \n",
       "0                                                                           \n",
       "1                                                                           \n",
       "2                                                                           \n",
       "3                                                                           \n",
       "4                                                                           \n",
       "5                                  Fulfilment period  Status  Closure date  \n",
       "6  Until 23.03.2022 \\n(12 months from the \\ndate ...    Open                "
      ]
     },
     "execution_count": 12,
     "metadata": {},
     "output_type": "execute_result"
    }
   ],
   "source": [
    "tables[0].df"
   ]
  },
  {
   "cell_type": "code",
   "execution_count": null,
   "id": "b01a9ac4",
   "metadata": {},
   "outputs": [],
   "source": []
  }
 ],
 "metadata": {
  "kernelspec": {
   "display_name": "Python 3",
   "language": "python",
   "name": "python3"
  },
  "language_info": {
   "codemirror_mode": {
    "name": "ipython",
    "version": 3
   },
   "file_extension": ".py",
   "mimetype": "text/x-python",
   "name": "python",
   "nbconvert_exporter": "python",
   "pygments_lexer": "ipython3",
   "version": "3.8.10"
  }
 },
 "nbformat": 4,
 "nbformat_minor": 5
}
